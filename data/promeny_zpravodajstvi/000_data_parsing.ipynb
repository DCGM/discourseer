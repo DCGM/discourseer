{
 "cells": [
  {
   "cell_type": "markdown",
   "metadata": {},
   "source": [
    "# TXT to texts converter\n",
    "**Task: Convert long document full of input articles to single files as .txt**"
   ]
  },
  {
   "cell_type": "code",
   "execution_count": 1,
   "metadata": {},
   "outputs": [],
   "source": [
    "import os\n",
    "import sys\n",
    "import uuid\n",
    "import re\n",
    "import json\n",
    "\n",
    "def new_uuid():\n",
    "    return 'uuid:' + str(uuid.uuid4())\n",
    "\n",
    "src_file = '../../data/promeny_zpravodajstvi/texts.txt'\n",
    "output_dir = '../../data/promeny_zpravodajstvi/texts'\n",
    "if not os.path.exists(os.path.dirname(src_file)):\n",
    "    raise Exception('Source file does not exist')\n",
    "if not os.path.exists(output_dir):\n",
    "   os.makedirs(output_dir, exist_ok=True)\n",
    "else:\n",
    "    # remove all files in the output directory\n",
    "    for f in os.listdir(output_dir):\n",
    "        os.remove(os.path.join(output_dir, f))"
   ]
  },
  {
   "cell_type": "markdown",
   "metadata": {},
   "source": [
    "Read file + clean lines"
   ]
  },
  {
   "cell_type": "code",
   "execution_count": 2,
   "metadata": {},
   "outputs": [
    {
     "name": "stdout",
     "output_type": "stream",
     "text": [
      "Loaded 4295 lines from ../../data/promeny_zpravodajstvi/texts.txt\n"
     ]
    }
   ],
   "source": [
    "with open(src_file, 'r') as f:\n",
    "    lines = f.readlines()\n",
    "    lines = [l.strip() for l in lines]\n",
    "\n",
    "print(f'Loaded {len(lines)} lines from {src_file}')"
   ]
  },
  {
   "cell_type": "markdown",
   "metadata": {},
   "source": [
    "Get article headers"
   ]
  },
  {
   "cell_type": "code",
   "execution_count": 3,
   "metadata": {},
   "outputs": [
    {
     "name": "stdout",
     "output_type": "stream",
     "text": [
      "Found 101 article headers\n",
      "1.1. Zelení chtějí hlavu Čunka\n",
      "1.2. Kamery viděly do soukromí. Soud to potrestal\n",
      "1.3. Test MF DNES: Přijímačky jsou těžké i pro dospělé\n",
      "1.4. Sledují každý náš krok\n",
      "1.5. Vedení ODS: Zvolte Klause opět prezidentem\n",
      "...\n",
      "1.97. Omluva\n",
      "1.98. Čunek: Lhůta pro výpověď z bytu déle než dva roky\n",
      "1.99. Česká spořitelna prodlužuje provoz na pobočkách\n",
      "1.100. Vyšší mzdy ve Škodě ohrozí její rozvoj\n",
      "1.101. Unimex Group loni vydělal téměř miliardu\n"
     ]
    }
   ],
   "source": [
    "article_header_lines = lines[:230]\n",
    "article_headers = []\n",
    "for line in article_header_lines:\n",
    "    if not line or not re.match(r'^1\\.\\d+', line):\n",
    "        continue\n",
    "\n",
    "    line = re.sub(r'\\d+$', '', line.strip()).strip()\n",
    "    article_headers.append(line)\n",
    "\n",
    "print(f'Found {len(article_headers)} article headers')\n",
    "\n",
    "for l in article_headers[:5]:\n",
    "    print(l)\n",
    "print('...')\n",
    "for l in article_headers[-5:]:\n",
    "    print(l)\n"
   ]
  },
  {
   "cell_type": "markdown",
   "metadata": {},
   "source": [
    "Clean article lines"
   ]
  },
  {
   "cell_type": "code",
   "execution_count": 4,
   "metadata": {},
   "outputs": [
    {
     "name": "stdout",
     "output_type": "stream",
     "text": [
      "Remaining 3012/3283 article lines after cleaning\n"
     ]
    }
   ],
   "source": [
    "article_lines = lines[1012:]\n",
    "\n",
    "def clean_lines_by_start(lines, start):\n",
    "    cleaned = []\n",
    "    for line in lines:\n",
    "        if not line.startswith(start):\n",
    "            cleaned.append(line)\n",
    "    return cleaned\n",
    "\n",
    "line_count = len(article_lines)\n",
    "\n",
    "for start in ['Foto', '© 2022', 'Zpět']:\n",
    "    article_lines = clean_lines_by_start(article_lines, start)\n",
    "\n",
    "print(f'Remaining {len(article_lines)}/{line_count} article lines after cleaning')"
   ]
  },
  {
   "cell_type": "markdown",
   "metadata": {},
   "source": [
    "Get articles"
   ]
  },
  {
   "cell_type": "code",
   "execution_count": 5,
   "metadata": {},
   "outputs": [
    {
     "name": "stdout",
     "output_type": "stream",
     "text": [
      "1.1. Zelení chtějí hlavu Čunka\n",
      "TISK , Datum: 02.04.2007 , Zdroj: Mladá fronta DNES , Strana: 1 , Aut\n",
      "Found 101 articles\n",
      "{'header': '1.1. Zelení chtějí hlavu Čunka', 'text': '1.1. Zelení chtějí hlavu Čunka\\nTISK , Datum: 02.04.2007 , Zdroj: Mladá fronta DNES , Strana: 1 , Autor: PAVLA KUBÁLKOVÁ , Vytištěno: 171 085 , Prodáno: 144 292 , Infotype:\\nNepojmenováno , Datum importu: 01.01.0001 00:00 , Čtenost: 612 533 , Rubrika: Titulní  strana , Země: Česko , GRP: 6,81\\nVicepremiér svými výroky o Romech rozčilil ODS, zelené, opozici i některé své lidovce a byl označen za xenofoba\\n\\nPraha - Poslancům a vedení Strany zelených už došla trpělivost s Jiřím Čunkem. Chtějí, aby odešel z vlády. Poslední kapkou\\nbyl pro ně páteční výrok vicepremiéra Čunka o tom, že kdo chce být dotován od státu, musí se nejdřív „opálit“. Narážel tím na\\nzneužívání sociálních dávek a Romy.\\nVčera odpoledne proto předsednictvo Strany zelených rozhodlo, že je nutné o Čunkově dalším setrvání v pozici vicepremiéra a\\nministra opět jednat. Vyzvali Mirka Topolánka, aby co nejdříve svolal schůzku koalice. Premiér se do uzávěrky tohoto vydání k\\nvýzvě nevyjádřil. Byl na cestě z Afghánistánu, kde navštívil naše vojáky.\\n„Výroky ministra Čunka podněcují nesnášenlivost ve společnosti a jsou v protikladu s přístupem české vlády k menšinám,“ řekl\\nposlanec zelených a předseda evropského výboru Sněmovny Ondřej Liška s tím, že schůzka o Čunkově odvolání by mohla být\\nuž v úterý nebo ve středu.\\nUž v sobotu se přitom objevily informace, že šéf zelených Martin Bursík pohrozil odchodem své strany z vlády, pokud nebude\\nJiří Čunek za své výroky odvolán. Zelení chtěli, aby Čunek z vlády odešel už krátce poté, co vypukl jeho korupční skandál.\\nZatím mu pouze doporučovali, aby odešel, očistil své jméno a zase se vrátil.\\nS požadavkem na Čunkovo odvolání nejsou zelení jediní.\\nPodle hejtmana Středočeského kraje a místopředsedy ODS Petra Bendla se podobné hlasy ozývají stále častěji i od některých\\nposlanců jeho strany. Přitom právě občanští demokraté stále čekali, že si s aférami Čunek poradí a premiér jej nebude muset\\nsám odvolat.\\nTo se v sobotu dramaticky změnilo. Jeho výrok o Romech označila ODS za nesprávný.\\n„Výkonná rada ODS se distancuje od xenofobních výroků Jiřího Čunka na adresu občanů České republiky romské národnosti,“\\nřekl v Chomutově premiér Topolánek.\\nJiří Čunek se sice včera v televizním pořadu Nedělní partie za svá slova omluvil, ale tvrdí, že věta byla vytržena z kontextu.\\n„Omlouvám se všem, kdo jsou pobouřeni, protože patří do nějaké minoritní skupiny. Zároveň jim chci říct, že jsem o nich ani k\\nnim nemluvil. To, co jsem řekl, patřilo jen nám politikům,“ hájil se.\\nVýrokem jsou i přes omluvu pobouřeni také Čunkovi spolustraníci. „Dělat někde na náměstí ohně a binec s rodinou a mluvit o\\nopálení, to už je pro mne naprosto nepřijatelné. Je v podstatě úplně jedno, jestli to myslel na Romy, nebo ne, protože mluvil o\\nnějak odlišné barvě pleti. Je to nevkusné a nebezpečné,“ řekla například ministryně obrany Vlasta Parkanová.\\nPokračování na str. A2\\n\\nMá slova byla vytržena z kontextu a nepatřila médiím, brání se šéf lidovců\\nPokračování ze str. 1\\nProti výroku Jiřího Čunka se tak postavily všechny politické strany. Vicepremiér se přitom brání, že jeho věta otištěná v Blesku\\nbyla vytržena z kontextu a navíc, že netušil, že noviny jeho slova otisknou. Tvrdí zároveň, že se lidí dotkla, protože je\\nnepochopili. „Mluvil jsem s konkrétním člověkem o konkrétním dotazu zhruba sedm minut. Nemluvil jsem tedy do médií,“ snažil\\nse Čunek zmírnit svá slova.\\nJenomže ani vytržení jedné věty z kontextu není podle některých politiků omluvou. Například podle ministryně školství Dany\\nKuchtové jde hlavně o to, jaká použil slova. „Tohle by se místopředsedovi vlády stát nemělo. Je to něco, co dalece překračuje\\nhranice,“ řekla.\\nNegativní ohlasy si v sobotu ráno vyslechl Čunek i od své stranické kolegyně, ministryně obrany Vlasty Parkanové. „Přečetla\\njsem si to v noci na sobotu a byla jsem z toho zděšená. Hned jsem panu Čunkovi řekla, že jsou jeho výroky podle mého názoru\\nneobhajitelné,“ řekla Parkanová.\\nOmluva, kterou šéf lidovců včera řekl, je podle ní na místě a sama se všem, kdo se cítí jeho výroky dotčeni, omlouvá. Stejně\\njako Kuchtová nesouhlasí s tím, že věta zněla v kontextu úplně jinak.\\nPřestože jeho slova rozzlobila i ODS, ministr vnitra Ivan Langer si nemyslí, že by tím byl Jiří Čunek nějak ve své vládní pozici\\nohrožen. „Nevím ani, v čem by ho to mělo ohrozit. Mělo by to pana Čunka vést k tomu, aby si dával příště větší pozor na to, co\\nříká,“ uvedl Langer.\\nDostačující je podle něj i omluva, kterou včera Čunek v televizi řekl. „To považuji za dostatečné. Věřím, že to bude brát jako\\npoučení do budoucna,“ dodal Langer.\\n\\n* Co řekl Jiří Čunek\\n\\nNa otázku čtenáře Blesku, zda i ostatní lidé budou dotováni jako Romové, odpověděl: „To se budete muset jet někam opálit,\\nzačít dělat s rodinou binec, na náměstí dělat ohně.“\\nVčera se omlouval: „Omlouvám se všem, kteří jsou tím pobouřeni.“ Zároveň se však hájil, že jeho výrok nebyl správně\\npochopen.\\n\\nKomentář na str. A 10'}\n"
     ]
    }
   ],
   "source": [
    "texts = '\\n'.join(lines[1012:]).strip()\n",
    "print(texts[:100])\n",
    "\n",
    "# split texts into articles by headers\n",
    "articles = []\n",
    "article = []\n",
    "for line in article_lines:\n",
    "    # if not line:\n",
    "    #     continue\n",
    "\n",
    "    if re.match(r'^1\\.\\d+', line) and article and line in article_headers:\n",
    "        if article:\n",
    "            articles.append(article)\n",
    "            article = []\n",
    "    article.append(line)\n",
    "\n",
    "if article:\n",
    "    articles.append(article)\n",
    "\n",
    "articles = [{'header': str(a[0]).strip(), \n",
    "             'text': '\\n'.join(a).strip()} \n",
    "             for a in articles]\n",
    "\n",
    "articles = [a for a in articles if a['text']]\n",
    "\n",
    "print(f'Found {len(articles)} articles')\n",
    "print(articles[0])"
   ]
  },
  {
   "cell_type": "markdown",
   "metadata": {},
   "source": [
    "Export articles to .txt files in `output_dir`"
   ]
  },
  {
   "cell_type": "code",
   "execution_count": 6,
   "metadata": {},
   "outputs": [
    {
     "name": "stdout",
     "output_type": "stream",
     "text": [
      "Exported 101 articles to ../../data/promeny_zpravodajstvi/texts\n"
     ]
    }
   ],
   "source": [
    "for article in articles:\n",
    "    if not article['text'] or not article['header']:\n",
    "        print(f'Skipping article without text or header')\n",
    "        print(f'header: {article[\"header\"]}')\n",
    "        print(f'text: {article[\"text\"]}')\n",
    "        continue\n",
    "\n",
    "    file_name = article['header'].replace(' ', '_').replace('/', '_') + '.txt'\n",
    "    output_file = os.path.join(output_dir, file_name)\n",
    "    with open(output_file, 'w') as f:\n",
    "        f.write(article['text'])\n",
    "\n",
    "print(f'Exported {len(os.listdir(output_dir))} articles to {output_dir}')"
   ]
  },
  {
   "cell_type": "markdown",
   "metadata": {},
   "source": [
    "Export list of article headers"
   ]
  },
  {
   "cell_type": "code",
   "execution_count": 7,
   "metadata": {},
   "outputs": [
    {
     "name": "stdout",
     "output_type": "stream",
     "text": [
      "Exported article list to ../../data/promeny_zpravodajstvi/articles.txt\n"
     ]
    }
   ],
   "source": [
    "# export to os.path.dirname(src_file) + '/articles.txt'\n",
    "article_list_file = os.path.join(os.path.dirname(src_file), 'article_headers.txt')\n",
    "with open(article_list_file, 'w') as f:\n",
    "    for article in articles:\n",
    "        if article['header']:\n",
    "            f.write(f\"{article['header']}\\n\")\n",
    "\n",
    "print(f'Exported article list to {article_list_file}')"
   ]
  },
  {
   "cell_type": "markdown",
   "metadata": {},
   "source": [
    "Export articles in JSON"
   ]
  },
  {
   "cell_type": "code",
   "execution_count": 9,
   "metadata": {},
   "outputs": [],
   "source": [
    "article_json_file = os.path.join(os.path.dirname(src_file), 'articles.json')\n",
    "with open(article_json_file, 'w') as f:\n",
    "    json.dump(articles, f, indent=2, ensure_ascii=False)"
   ]
  },
  {
   "cell_type": "markdown",
   "metadata": {},
   "source": [
    "# XLS to csv by sheets"
   ]
  },
  {
   "cell_type": "code",
   "execution_count": 4,
   "metadata": {},
   "outputs": [
    {
     "name": "stdout",
     "output_type": "stream",
     "text": [
      "kriterium\n",
      "odstavce\n",
      "hard_news\n",
      "politicka_zprava\n",
      "soukromy_ramec\n",
      "strategicke\n",
      "vecne\n",
      "funkce\n",
      "vyvazenost\n",
      "protichudne_hlediska\n",
      "odborny_zdroj\n",
      "citace_a_parafraze\n",
      "pyramida\n",
      "fakta_a_nazory\n",
      "negativni_vyzneni\n",
      "konflikt\n",
      "nekompetence\n",
      "skandal\n",
      "dopad\n",
      "obtezujici_okolnosti\n",
      "problemy\n",
      "rady\n",
      "personalizace\n",
      "soukromy_zivot\n",
      "senzacnost\n",
      "emoce\n",
      "morbidnost\n",
      "reakce\n",
      "pozadavky\n",
      "validace\n",
      "lokalni_dopad\n",
      "vzdelavani\n",
      "kontext\n",
      "dotazy\n",
      "informace\n",
      "podpora\n",
      "Exported 36 CSV files to ratings_orig_csv\n"
     ]
    }
   ],
   "source": [
    "import os\n",
    "import pandas as pd\n",
    "\n",
    "# Change the working directory to the data directory\n",
    "os.chdir('../../data/promeny_zpravodajstvi')\n",
    "\n",
    "excel_file_path = 'ratings.xls'\n",
    "out_dir = 'ratings_orig_csv'\n",
    "if not os.path.exists(out_dir):\n",
    "    os.makedirs(out_dir, exist_ok=True)\n",
    "else:\n",
    "    # remove all files in the output directory\n",
    "    for f in os.listdir(out_dir):\n",
    "        os.remove(os.path.join(out_dir, f))\n",
    "\n",
    "\n",
    "def export_sheet_to_csv(file_path, sheet_name):\n",
    "    \"\"\"\n",
    "    Export a single sheet from an Excel file to a CSV file.\n",
    "    \n",
    "    :param file_path: Path to the Excel file.\n",
    "    :param sheet_name: Name of the sheet to export.\n",
    "    \"\"\"\n",
    "    # Read the specific sheet from the Excel file\n",
    "    df = pd.read_excel(file_path, sheet_name=sheet_name)\n",
    "    \n",
    "    # Define the output CSV file name based on the sheet name\n",
    "    out_csv_file_name = os.path.join(out_dir, f\"{sheet_name}.csv\")\n",
    "    \n",
    "    # Save the DataFrame to a CSV file\n",
    "    df.to_csv(out_csv_file_name, index=False)\n",
    "\n",
    "\n",
    "# Get the list of sheet names\n",
    "sheet_names = pd.ExcelFile(excel_file_path).sheet_names\n",
    "\n",
    "# Iterate over each sheet and export it to a CSV file\n",
    "for sheet_name in sheet_names:\n",
    "    export_sheet_to_csv(excel_file_path, sheet_name)\n",
    "    print(sheet_name)\n",
    "\n",
    "print(f'Exported {len(os.listdir(out_dir))} CSV files to {out_dir}')"
   ]
  },
  {
   "cell_type": "markdown",
   "metadata": {},
   "source": [
    "# Ratings csv to raters.csv"
   ]
  },
  {
   "cell_type": "code",
   "execution_count": 6,
   "metadata": {},
   "outputs": [],
   "source": [
    "import os\n",
    "import sys\n",
    "import uuid\n",
    "import re\n",
    "import pandas as pd\n",
    "import os\n",
    "\n",
    "src_dir = '../../data/promeny_zpravodajstvi/ratings_orig_csv'\n",
    "output_dir = '../../data/promeny_zpravodajstvi/ratings_output_csv'\n",
    "if not os.path.exists(os.path.dirname(src_dir)):\n",
    "    raise Exception('Source file does not exist')\n",
    "if not os.path.exists(output_dir):\n",
    "    os.makedirs(output_dir, exist_ok=True)\n",
    "else:\n",
    "    # remove all files in the output directory\n",
    "    for f in os.listdir(output_dir):\n",
    "        os.remove(os.path.join(output_dir, f))"
   ]
  },
  {
   "cell_type": "markdown",
   "metadata": {},
   "source": [
    "Load csv files and check them"
   ]
  },
  {
   "cell_type": "code",
   "execution_count": 10,
   "metadata": {},
   "outputs": [
    {
     "name": "stdout",
     "output_type": "stream",
     "text": [
      "Found 36 csv files\n",
      "Loaded 100 rows from ../../data/promeny_zpravodajstvi/ratings_orig_csv/Validace.csv\n",
      "      0    1    2           3                   4            5              6  \\\n",
      "0   0.0  0.1  0.2  Unnamed: 3             Average  Pairwise CK  Pairwise CK.1   \n",
      "1   0.0  0.0  0.0         NaN      pairwise PABAK   cols 1 & 2     cols 2 & 3   \n",
      "2   0.0  0.0  0.0         NaN  0.9259259333333333     0.962963      0.8888889   \n",
      "3   0.0  0.0  0.0         NaN                 NaN          NaN            NaN   \n",
      "4   0.0  0.0  0.0         NaN                 NaN          NaN            NaN   \n",
      "..  ...  ...  ...         ...                 ...          ...            ...   \n",
      "95  NaN  NaN  NaN         NaN                 NaN          NaN            NaN   \n",
      "96  NaN  NaN  NaN         NaN                 NaN          NaN            NaN   \n",
      "97  NaN  NaN  NaN         NaN                 NaN          NaN            NaN   \n",
      "98  0.0  0.0  0.0         NaN                 NaN          NaN            NaN   \n",
      "99  0.0  0.0  0.0         NaN                 NaN          NaN            NaN   \n",
      "\n",
      "                7  \n",
      "0   Pairwise CK.2  \n",
      "1      cols 1 & 3  \n",
      "2       0.9259259  \n",
      "3             NaN  \n",
      "4             NaN  \n",
      "..            ...  \n",
      "95            NaN  \n",
      "96            NaN  \n",
      "97            NaN  \n",
      "98            NaN  \n",
      "99            NaN  \n",
      "\n",
      "[100 rows x 8 columns]\n",
      "Loaded 100 rows from ../../data/promeny_zpravodajstvi/ratings_orig_csv/Požadavky.csv\n",
      "      0    1    2           3                   4            5              6  \\\n",
      "0   0.0  0.1  0.2  Unnamed: 3             Average  Pairwise CK  Pairwise CK.1   \n",
      "1   0.0  0.0  0.0         NaN      pairwise PABAK   cols 1 & 2     cols 2 & 3   \n",
      "2   0.0  0.0  0.0         NaN  0.8024691333333333    0.8148148      0.7777778   \n",
      "3   0.0  0.0  0.0         NaN                 NaN          NaN            NaN   \n",
      "4   0.0  0.0  0.0         NaN                 NaN          NaN            NaN   \n",
      "..  ...  ...  ...         ...                 ...          ...            ...   \n",
      "95  NaN  NaN  NaN         NaN                 NaN          NaN            NaN   \n",
      "96  NaN  NaN  NaN         NaN                 NaN          NaN            NaN   \n",
      "97  NaN  NaN  NaN         NaN                 NaN          NaN            NaN   \n",
      "98  0.0  0.0  0.0         NaN                 NaN          NaN            NaN   \n",
      "99  0.0  0.0  1.0         NaN                 NaN          NaN            NaN   \n",
      "\n",
      "                7  \n",
      "0   Pairwise CK.2  \n",
      "1      cols 1 & 3  \n",
      "2       0.8148148  \n",
      "3             NaN  \n",
      "4             NaN  \n",
      "..            ...  \n",
      "95            NaN  \n",
      "96            NaN  \n",
      "97            NaN  \n",
      "98            NaN  \n",
      "99            NaN  \n",
      "\n",
      "[100 rows x 8 columns]\n"
     ]
    }
   ],
   "source": [
    "# load csv files\n",
    "csv_files = [f for f in os.listdir(src_dir) if f.endswith('.csv')]\n",
    "print(f'Found {len(csv_files)} csv files')\n",
    "\n",
    "for file in csv_files[:2]:\n",
    "    src_file = os.path.join(src_dir, file)\n",
    "    df = pd.read_csv(src_file, header=None)\n",
    "    print(f'Loaded {len(df)} rows from {src_file}')\n",
    "    print(df)\n"
   ]
  }
 ],
 "metadata": {
  "kernelspec": {
   "display_name": "Python 3",
   "language": "python",
   "name": "python3"
  },
  "language_info": {
   "codemirror_mode": {
    "name": "ipython",
    "version": 3
   },
   "file_extension": ".py",
   "mimetype": "text/x-python",
   "name": "python",
   "nbconvert_exporter": "python",
   "pygments_lexer": "ipython3",
   "version": "3.10.12"
  }
 },
 "nbformat": 4,
 "nbformat_minor": 2
}
